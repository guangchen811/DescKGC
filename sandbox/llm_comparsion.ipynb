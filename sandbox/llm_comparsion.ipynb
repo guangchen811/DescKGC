{
 "cells": [
  {
   "cell_type": "markdown",
   "metadata": {},
   "source": [
    "This page is used to compare different LLMs' information extraction ability."
   ]
  },
  {
   "cell_type": "code",
   "execution_count": 6,
   "metadata": {},
   "outputs": [],
   "source": [
    "import re\n",
    "import json"
   ]
  },
  {
   "cell_type": "code",
   "execution_count": 7,
   "metadata": {},
   "outputs": [],
   "source": [
    "def json_to_dict(json_string):\n",
    "    try:\n",
    "        return json.loads(json_string)\n",
    "    except json.decoder.JSONDecodeError as e:\n",
    "        print(f\"Failed to decode JSON string: {str(e)}\")\n",
    "        return None\n",
    "def convert_to_triples(input_string):\n",
    "    # Use regular expressions to find all substrings that look like '( ... )'\n",
    "    triple_strings = re.findall(r'\\((.*?)\\)', input_string)\n",
    "    triples = []\n",
    "    for string in triple_strings:\n",
    "        # Split by ', ' and append as a tuple\n",
    "        triple = string.split(', ')\n",
    "        triples.append(tuple(triple))\n",
    "    return triples"
   ]
  },
  {
   "cell_type": "code",
   "execution_count": 9,
   "metadata": {},
   "outputs": [],
   "source": [
    "input_string = \"\"\"\n",
    "[\n",
    "\n",
    "{\n",
    "\"type\": \"Concept\",\n",
    "\"name\": \"active networking\",\n",
    "\"description\": \"Active networking refers to the ability of a network to dynamically adapt to changing conditions and optimize its behavior accordingly.\",\n",
    "\"general\": true\n",
    "},\n",
    "\n",
    "{\n",
    "\"type\": \"Concept\",\n",
    "\"name\": \"Kolmogorov Complexity\",\n",
    "\"description\": \"Kolmogorov Complexity is a measure of the computational difficulty of compressing a string of bits.\",\n",
    "\"general\": true\n",
    "},\n",
    "\n",
    "{\n",
    "\"type\": \"Model\",\n",
    "\"name\": \"Active Virtual Network Management Prediction\",\n",
    "\"description\": \"Active Virtual Network Management Prediction is a mechanism that enables network self-prediction using Kolmogorov Complexity.\",\n",
    "\"general\": false\n",
    "},\n",
    "\n",
    "{\n",
    "\"type\": \"Concept\",\n",
    "\"name\": \"algorithmic transmission of information\",\n",
    "\"description\": \"Algorithmic transmission of information refers to the process of transmitting information in a formalized manner, typically through algorithms and computer programs.\",\n",
    "\"general\": true\n",
    "},\n",
    "\n",
    "{\n",
    "\"type\": \"Concept\",\n",
    "\"name\": \"Information Assurance\",\n",
    "\"description\": \"Information Assurance is a framework for ensuring the security and reliability of information systems.\",\n",
    "\"general\": true\n",
    "}\n",
    "\n",
    "]\n",
    "\"\"\"\n",
    "entities = json_to_dict(input_string)"
   ]
  }
 ],
 "metadata": {
  "kernelspec": {
   "display_name": "kg",
   "language": "python",
   "name": "python3"
  },
  "language_info": {
   "codemirror_mode": {
    "name": "ipython",
    "version": 3
   },
   "file_extension": ".py",
   "mimetype": "text/x-python",
   "name": "python",
   "nbconvert_exporter": "python",
   "pygments_lexer": "ipython3",
   "version": "3.9.16"
  },
  "orig_nbformat": 4
 },
 "nbformat": 4,
 "nbformat_minor": 2
}
