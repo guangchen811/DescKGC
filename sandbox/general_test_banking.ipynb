{
 "cells": [
  {
   "cell_type": "markdown",
   "metadata": {},
   "source": [
    "## currect structure"
   ]
  },
  {
   "cell_type": "markdown",
   "metadata": {},
   "source": [
    "## pre process"
   ]
  },
  {
   "cell_type": "code",
   "execution_count": 1,
   "metadata": {},
   "outputs": [],
   "source": [
    "import yaml\n",
    "import sys\n",
    "sys.path.append('..')\n",
    "from src.tools.db_manager.base import DBManager\n",
    "with open('../config.yaml', 'r') as f:\n",
    "    config = yaml.load(f, Loader=yaml.FullLoader)"
   ]
  },
  {
   "cell_type": "code",
   "execution_count": 3,
   "metadata": {},
   "outputs": [],
   "source": [
    "config['chromadb']['persist_directory'] = '../data/chroma'"
   ]
  },
  {
   "cell_type": "code",
   "execution_count": 5,
   "metadata": {},
   "outputs": [
    {
     "ename": "ServiceUnavailable",
     "evalue": "Couldn't connect to localhost:7687 (resolved to ()):\nFailed to establish connection to ResolvedIPv4Address(('127.0.0.1', 7687)) (reason [Errno 61] Connection refused)\nFailed to establish connection to ResolvedIPv6Address(('::1', 7687, 0, 0)) (reason [Errno 61] Connection refused)",
     "output_type": "error",
     "traceback": [
      "\u001b[0;31m---------------------------------------------------------------------------\u001b[0m",
      "\u001b[0;31mConnectionRefusedError\u001b[0m                    Traceback (most recent call last)",
      "File \u001b[0;32m/opt/homebrew/anaconda3/envs/kg/lib/python3.9/site-packages/neo4j/_async_compat/network/_bolt_socket.py:524\u001b[0m, in \u001b[0;36mBoltSocket._connect\u001b[0;34m(cls, resolved_address, timeout, keep_alive)\u001b[0m\n\u001b[1;32m    523\u001b[0m log\u001b[39m.\u001b[39mdebug(\u001b[39m\"\u001b[39m\u001b[39m[#0000]  C: <OPEN> \u001b[39m\u001b[39m%s\u001b[39;00m\u001b[39m\"\u001b[39m, resolved_address)\n\u001b[0;32m--> 524\u001b[0m s\u001b[39m.\u001b[39;49mconnect(resolved_address)\n\u001b[1;32m    525\u001b[0m s\u001b[39m.\u001b[39msettimeout(t)\n",
      "\u001b[0;31mConnectionRefusedError\u001b[0m: [Errno 61] Connection refused",
      "\nThe above exception was the direct cause of the following exception:\n",
      "\u001b[0;31mServiceUnavailable\u001b[0m                        Traceback (most recent call last)",
      "File \u001b[0;32m/opt/homebrew/anaconda3/envs/kg/lib/python3.9/site-packages/neo4j/_async_compat/network/_bolt_socket.py:682\u001b[0m, in \u001b[0;36mBoltSocket.connect\u001b[0;34m(cls, address, tcp_timeout, deadline, custom_resolver, ssl_context, keep_alive)\u001b[0m\n\u001b[1;32m    681\u001b[0m \u001b[39mtry\u001b[39;00m:\n\u001b[0;32m--> 682\u001b[0m     s \u001b[39m=\u001b[39m BoltSocket\u001b[39m.\u001b[39;49m_connect(resolved_address, tcp_timeout,\n\u001b[1;32m    683\u001b[0m                             keep_alive)\n\u001b[1;32m    684\u001b[0m     s \u001b[39m=\u001b[39m BoltSocket\u001b[39m.\u001b[39m_secure(s, resolved_address\u001b[39m.\u001b[39m_host_name,\n\u001b[1;32m    685\u001b[0m                            ssl_context)\n",
      "File \u001b[0;32m/opt/homebrew/anaconda3/envs/kg/lib/python3.9/site-packages/neo4j/_async_compat/network/_bolt_socket.py:542\u001b[0m, in \u001b[0;36mBoltSocket._connect\u001b[0;34m(cls, resolved_address, timeout, keep_alive)\u001b[0m\n\u001b[1;32m    541\u001b[0m \u001b[39mif\u001b[39;00m \u001b[39misinstance\u001b[39m(error, \u001b[39mOSError\u001b[39;00m):\n\u001b[0;32m--> 542\u001b[0m     \u001b[39mraise\u001b[39;00m ServiceUnavailable(\n\u001b[1;32m    543\u001b[0m         \u001b[39m\"\u001b[39m\u001b[39mFailed to establish connection to \u001b[39m\u001b[39m{!r}\u001b[39;00m\u001b[39m (reason \u001b[39m\u001b[39m{}\u001b[39;00m\u001b[39m)\u001b[39m\u001b[39m\"\u001b[39m\n\u001b[1;32m    544\u001b[0m         \u001b[39m.\u001b[39mformat(resolved_address, error)\n\u001b[1;32m    545\u001b[0m     ) \u001b[39mfrom\u001b[39;00m \u001b[39merror\u001b[39;00m\n\u001b[1;32m    546\u001b[0m \u001b[39mraise\u001b[39;00m\n",
      "\u001b[0;31mServiceUnavailable\u001b[0m: Failed to establish connection to ResolvedIPv4Address(('127.0.0.1', 7687)) (reason [Errno 61] Connection refused)",
      "\nThe above exception was the direct cause of the following exception:\n",
      "\u001b[0;31mServiceUnavailable\u001b[0m                        Traceback (most recent call last)",
      "Cell \u001b[0;32mIn[5], line 1\u001b[0m\n\u001b[0;32m----> 1\u001b[0m db_manager \u001b[39m=\u001b[39m DBManager(\u001b[39m*\u001b[39;49m\u001b[39m*\u001b[39;49mconfig[\u001b[39m'\u001b[39;49m\u001b[39mneo4jdb\u001b[39;49m\u001b[39m'\u001b[39;49m], \u001b[39m*\u001b[39;49m\u001b[39m*\u001b[39;49mconfig[\u001b[39m'\u001b[39;49m\u001b[39mchromadb\u001b[39;49m\u001b[39m'\u001b[39;49m])\n",
      "File \u001b[0;32m~/Documents/local_python/KGC_tianchi/sandbox/../src/tools/db_manager/base.py:24\u001b[0m, in \u001b[0;36mDBManager.__init__\u001b[0;34m(self, url, username, password, chroma_db_impl, persist_directory, collection_name, **kwargs)\u001b[0m\n\u001b[1;32m     15\u001b[0m \u001b[39mdef\u001b[39;00m \u001b[39m__init__\u001b[39m(\u001b[39mself\u001b[39m,\n\u001b[1;32m     16\u001b[0m              url,\n\u001b[1;32m     17\u001b[0m              username,\n\u001b[0;32m   (...)\u001b[0m\n\u001b[1;32m     22\u001b[0m              \u001b[39m*\u001b[39m\u001b[39m*\u001b[39mkwargs\n\u001b[1;32m     23\u001b[0m              ):\n\u001b[0;32m---> 24\u001b[0m     \u001b[39mself\u001b[39m\u001b[39m.\u001b[39mgraph \u001b[39m=\u001b[39m Neo4jGraph(\n\u001b[1;32m     25\u001b[0m         url\u001b[39m=\u001b[39;49murl,\n\u001b[1;32m     26\u001b[0m         username\u001b[39m=\u001b[39;49musername,\n\u001b[1;32m     27\u001b[0m         password\u001b[39m=\u001b[39;49mpassword,\n\u001b[1;32m     28\u001b[0m         \u001b[39m*\u001b[39;49m\u001b[39m*\u001b[39;49mkwargs\n\u001b[1;32m     29\u001b[0m     )\n\u001b[1;32m     30\u001b[0m     \u001b[39mself\u001b[39m\u001b[39m.\u001b[39mvector_store \u001b[39m=\u001b[39m ChromaVectorStore(\n\u001b[1;32m     31\u001b[0m         chroma_db_impl\u001b[39m=\u001b[39mchroma_db_impl,\n\u001b[1;32m     32\u001b[0m         persist_directory\u001b[39m=\u001b[39mpersist_directory,\n\u001b[1;32m     33\u001b[0m         collection_name\u001b[39m=\u001b[39mcollection_name,\n\u001b[1;32m     34\u001b[0m         \u001b[39m*\u001b[39m\u001b[39m*\u001b[39mkwargs\n\u001b[1;32m     35\u001b[0m     )\n\u001b[1;32m     36\u001b[0m     \u001b[39mself\u001b[39m\u001b[39m.\u001b[39mupdate_schema()\n",
      "File \u001b[0;32m~/Documents/local_python/KGC_tianchi/sandbox/../src/tools/neo4j/base.py:52\u001b[0m, in \u001b[0;36mNeo4jGraph.__init__\u001b[0;34m(self, url, username, password, database, **kwargs)\u001b[0m\n\u001b[1;32m     50\u001b[0m \u001b[39mself\u001b[39m\u001b[39m.\u001b[39mrelationships \u001b[39m=\u001b[39m []\n\u001b[1;32m     51\u001b[0m \u001b[39mtry\u001b[39;00m:\n\u001b[0;32m---> 52\u001b[0m     \u001b[39mself\u001b[39;49m\u001b[39m.\u001b[39;49mrefresh_schema()\n\u001b[1;32m     53\u001b[0m \u001b[39mexcept\u001b[39;00m neo4j\u001b[39m.\u001b[39mexceptions\u001b[39m.\u001b[39mClientError:\n\u001b[1;32m     54\u001b[0m     \u001b[39mraise\u001b[39;00m \u001b[39mValueError\u001b[39;00m(\n\u001b[1;32m     55\u001b[0m         \u001b[39m\"\u001b[39m\u001b[39mCould not use APOC procedures. \u001b[39m\u001b[39m\"\u001b[39m\n\u001b[1;32m     56\u001b[0m         \u001b[39m\"\u001b[39m\u001b[39mPlease install the APOC plugin in Neo4j.\u001b[39m\u001b[39m\"\u001b[39m\n\u001b[1;32m     57\u001b[0m     )\n",
      "File \u001b[0;32m~/Documents/local_python/KGC_tianchi/sandbox/../src/tools/neo4j/base.py:95\u001b[0m, in \u001b[0;36mNeo4jGraph.refresh_schema\u001b[0;34m(self)\u001b[0m\n\u001b[1;32m     91\u001b[0m \u001b[39mdef\u001b[39;00m \u001b[39mrefresh_schema\u001b[39m(\u001b[39mself\u001b[39m) \u001b[39m-\u001b[39m\u001b[39m>\u001b[39m \u001b[39mNone\u001b[39;00m:\n\u001b[1;32m     92\u001b[0m \u001b[39m    \u001b[39m\u001b[39m\"\"\"\u001b[39;00m\n\u001b[1;32m     93\u001b[0m \u001b[39m    Refreshes the Neo4j graph schema information.\u001b[39;00m\n\u001b[1;32m     94\u001b[0m \u001b[39m    \"\"\"\u001b[39;00m\n\u001b[0;32m---> 95\u001b[0m     node_properties \u001b[39m=\u001b[39m \u001b[39mself\u001b[39;49m\u001b[39m.\u001b[39;49mquery(node_properties_query)\n\u001b[1;32m     96\u001b[0m     relationships_properties \u001b[39m=\u001b[39m \u001b[39mself\u001b[39m\u001b[39m.\u001b[39mquery(rel_properties_query)\n\u001b[1;32m     97\u001b[0m     relationships \u001b[39m=\u001b[39m \u001b[39mself\u001b[39m\u001b[39m.\u001b[39mquery(relationships_query)\n",
      "File \u001b[0;32m~/Documents/local_python/KGC_tianchi/sandbox/../src/tools/neo4j/base.py:85\u001b[0m, in \u001b[0;36mNeo4jGraph.query\u001b[0;34m(self, query, params)\u001b[0m\n\u001b[1;32m     83\u001b[0m \u001b[39mwith\u001b[39;00m \u001b[39mself\u001b[39m\u001b[39m.\u001b[39m_driver\u001b[39m.\u001b[39msession(database\u001b[39m=\u001b[39m\u001b[39mself\u001b[39m\u001b[39m.\u001b[39m_database) \u001b[39mas\u001b[39;00m session:\n\u001b[1;32m     84\u001b[0m     \u001b[39mtry\u001b[39;00m:\n\u001b[0;32m---> 85\u001b[0m         data \u001b[39m=\u001b[39m session\u001b[39m.\u001b[39;49mrun(query, params)\n\u001b[1;32m     86\u001b[0m         \u001b[39mreturn\u001b[39;00m [r\u001b[39m.\u001b[39mdata() \u001b[39mfor\u001b[39;00m r \u001b[39min\u001b[39;00m data]\n\u001b[1;32m     87\u001b[0m     \u001b[39mexcept\u001b[39;00m CypherSyntaxError \u001b[39mas\u001b[39;00m e:\n",
      "File \u001b[0;32m/opt/homebrew/anaconda3/envs/kg/lib/python3.9/site-packages/neo4j/_sync/work/session.py:280\u001b[0m, in \u001b[0;36mSession.run\u001b[0;34m(self, query, parameters, **kwargs)\u001b[0m\n\u001b[1;32m    277\u001b[0m     \u001b[39mself\u001b[39m\u001b[39m.\u001b[39m_auto_result\u001b[39m.\u001b[39m_buffer_all()\n\u001b[1;32m    279\u001b[0m \u001b[39mif\u001b[39;00m \u001b[39mnot\u001b[39;00m \u001b[39mself\u001b[39m\u001b[39m.\u001b[39m_connection:\n\u001b[0;32m--> 280\u001b[0m     \u001b[39mself\u001b[39;49m\u001b[39m.\u001b[39;49m_connect(\u001b[39mself\u001b[39;49m\u001b[39m.\u001b[39;49m_config\u001b[39m.\u001b[39;49mdefault_access_mode)\n\u001b[1;32m    281\u001b[0m cx \u001b[39m=\u001b[39m \u001b[39mself\u001b[39m\u001b[39m.\u001b[39m_connection\n\u001b[1;32m    283\u001b[0m \u001b[39mself\u001b[39m\u001b[39m.\u001b[39m_auto_result \u001b[39m=\u001b[39m Result(\n\u001b[1;32m    284\u001b[0m     cx, \u001b[39mself\u001b[39m\u001b[39m.\u001b[39m_config\u001b[39m.\u001b[39mfetch_size, \u001b[39mself\u001b[39m\u001b[39m.\u001b[39m_result_closed,\n\u001b[1;32m    285\u001b[0m     \u001b[39mself\u001b[39m\u001b[39m.\u001b[39m_result_error\n\u001b[1;32m    286\u001b[0m )\n",
      "File \u001b[0;32m/opt/homebrew/anaconda3/envs/kg/lib/python3.9/site-packages/neo4j/_sync/work/session.py:120\u001b[0m, in \u001b[0;36mSession._connect\u001b[0;34m(self, access_mode, **access_kwargs)\u001b[0m\n\u001b[1;32m    118\u001b[0m     access_mode \u001b[39m=\u001b[39m \u001b[39mself\u001b[39m\u001b[39m.\u001b[39m_config\u001b[39m.\u001b[39mdefault_access_mode\n\u001b[1;32m    119\u001b[0m \u001b[39mtry\u001b[39;00m:\n\u001b[0;32m--> 120\u001b[0m     \u001b[39msuper\u001b[39;49m()\u001b[39m.\u001b[39;49m_connect(access_mode, \u001b[39m*\u001b[39;49m\u001b[39m*\u001b[39;49maccess_kwargs)\n\u001b[1;32m    121\u001b[0m \u001b[39mexcept\u001b[39;00m asyncio\u001b[39m.\u001b[39mCancelledError:\n\u001b[1;32m    122\u001b[0m     \u001b[39mself\u001b[39m\u001b[39m.\u001b[39m_handle_cancellation(message\u001b[39m=\u001b[39m\u001b[39m\"\u001b[39m\u001b[39m_connect\u001b[39m\u001b[39m\"\u001b[39m)\n",
      "File \u001b[0;32m/opt/homebrew/anaconda3/envs/kg/lib/python3.9/site-packages/neo4j/_sync/work/workspace.py:168\u001b[0m, in \u001b[0;36mWorkspace._connect\u001b[0;34m(self, access_mode, **acquire_kwargs)\u001b[0m\n\u001b[1;32m    160\u001b[0m acquire_kwargs_ \u001b[39m=\u001b[39m {\n\u001b[1;32m    161\u001b[0m     \u001b[39m\"\u001b[39m\u001b[39maccess_mode\u001b[39m\u001b[39m\"\u001b[39m: access_mode,\n\u001b[1;32m    162\u001b[0m     \u001b[39m\"\u001b[39m\u001b[39mtimeout\u001b[39m\u001b[39m\"\u001b[39m: acquisition_timeout,\n\u001b[0;32m   (...)\u001b[0m\n\u001b[1;32m    165\u001b[0m     \u001b[39m\"\u001b[39m\u001b[39mliveness_check_timeout\u001b[39m\u001b[39m\"\u001b[39m: \u001b[39mNone\u001b[39;00m,\n\u001b[1;32m    166\u001b[0m }\n\u001b[1;32m    167\u001b[0m acquire_kwargs_\u001b[39m.\u001b[39mupdate(acquire_kwargs)\n\u001b[0;32m--> 168\u001b[0m \u001b[39mself\u001b[39m\u001b[39m.\u001b[39m_connection \u001b[39m=\u001b[39m \u001b[39mself\u001b[39;49m\u001b[39m.\u001b[39;49m_pool\u001b[39m.\u001b[39;49macquire(\u001b[39m*\u001b[39;49m\u001b[39m*\u001b[39;49macquire_kwargs_)\n\u001b[1;32m    169\u001b[0m \u001b[39mself\u001b[39m\u001b[39m.\u001b[39m_connection_access_mode \u001b[39m=\u001b[39m access_mode\n",
      "File \u001b[0;32m/opt/homebrew/anaconda3/envs/kg/lib/python3.9/site-packages/neo4j/_sync/io/_pool.py:409\u001b[0m, in \u001b[0;36mBoltPool.acquire\u001b[0;34m(self, access_mode, timeout, database, bookmarks, liveness_check_timeout)\u001b[0m\n\u001b[1;32m    406\u001b[0m log\u001b[39m.\u001b[39mdebug(\u001b[39m\"\u001b[39m\u001b[39m[#0000]  _: <POOL> acquire direct connection, \u001b[39m\u001b[39m\"\u001b[39m\n\u001b[1;32m    407\u001b[0m           \u001b[39m\"\u001b[39m\u001b[39maccess_mode=\u001b[39m\u001b[39m%r\u001b[39;00m\u001b[39m, database=\u001b[39m\u001b[39m%r\u001b[39;00m\u001b[39m\"\u001b[39m, access_mode, database)\n\u001b[1;32m    408\u001b[0m deadline \u001b[39m=\u001b[39m Deadline\u001b[39m.\u001b[39mfrom_timeout_or_deadline(timeout)\n\u001b[0;32m--> 409\u001b[0m \u001b[39mreturn\u001b[39;00m \u001b[39mself\u001b[39;49m\u001b[39m.\u001b[39;49m_acquire(\n\u001b[1;32m    410\u001b[0m     \u001b[39mself\u001b[39;49m\u001b[39m.\u001b[39;49maddress, deadline, liveness_check_timeout\n\u001b[1;32m    411\u001b[0m )\n",
      "File \u001b[0;32m/opt/homebrew/anaconda3/envs/kg/lib/python3.9/site-packages/neo4j/_sync/io/_pool.py:219\u001b[0m, in \u001b[0;36mIOPool._acquire\u001b[0;34m(self, address, deadline, liveness_check_timeout)\u001b[0m\n\u001b[1;32m    214\u001b[0m             \u001b[39mraise\u001b[39;00m ClientError(\n\u001b[1;32m    215\u001b[0m                 \u001b[39m\"\u001b[39m\u001b[39mfailed to obtain a connection from the pool within \u001b[39m\u001b[39m\"\u001b[39m\n\u001b[1;32m    216\u001b[0m                 \u001b[39m\"\u001b[39m\u001b[39m{!r}\u001b[39;00m\u001b[39ms (timeout)\u001b[39m\u001b[39m\"\u001b[39m\u001b[39m.\u001b[39mformat(deadline\u001b[39m.\u001b[39moriginal_timeout)\n\u001b[1;32m    217\u001b[0m             )\n\u001b[1;32m    218\u001b[0m log\u001b[39m.\u001b[39mdebug(\u001b[39m\"\u001b[39m\u001b[39m[#0000]  _: <POOL> trying to hand out new connection\u001b[39m\u001b[39m\"\u001b[39m)\n\u001b[0;32m--> 219\u001b[0m \u001b[39mreturn\u001b[39;00m connection_creator()\n",
      "File \u001b[0;32m/opt/homebrew/anaconda3/envs/kg/lib/python3.9/site-packages/neo4j/_sync/io/_pool.py:138\u001b[0m, in \u001b[0;36mIOPool._acquire_new_later.<locals>.connection_creator\u001b[0;34m()\u001b[0m\n\u001b[1;32m    136\u001b[0m \u001b[39mtry\u001b[39;00m:\n\u001b[1;32m    137\u001b[0m     \u001b[39mtry\u001b[39;00m:\n\u001b[0;32m--> 138\u001b[0m         connection \u001b[39m=\u001b[39m \u001b[39mself\u001b[39;49m\u001b[39m.\u001b[39;49mopener(address, deadline)\n\u001b[1;32m    139\u001b[0m     \u001b[39mexcept\u001b[39;00m ServiceUnavailable:\n\u001b[1;32m    140\u001b[0m         \u001b[39mself\u001b[39m\u001b[39m.\u001b[39mdeactivate(address)\n",
      "File \u001b[0;32m/opt/homebrew/anaconda3/envs/kg/lib/python3.9/site-packages/neo4j/_sync/io/_pool.py:384\u001b[0m, in \u001b[0;36mBoltPool.open.<locals>.opener\u001b[0;34m(addr, deadline)\u001b[0m\n\u001b[1;32m    383\u001b[0m \u001b[39mdef\u001b[39;00m \u001b[39mopener\u001b[39m(addr, deadline):\n\u001b[0;32m--> 384\u001b[0m     \u001b[39mreturn\u001b[39;00m Bolt\u001b[39m.\u001b[39;49mopen(\n\u001b[1;32m    385\u001b[0m         addr, auth\u001b[39m=\u001b[39;49mauth, deadline\u001b[39m=\u001b[39;49mdeadline, routing_context\u001b[39m=\u001b[39;49m\u001b[39mNone\u001b[39;49;00m,\n\u001b[1;32m    386\u001b[0m         pool_config\u001b[39m=\u001b[39;49mpool_config\n\u001b[1;32m    387\u001b[0m     )\n",
      "File \u001b[0;32m/opt/homebrew/anaconda3/envs/kg/lib/python3.9/site-packages/neo4j/_sync/io/_bolt.py:345\u001b[0m, in \u001b[0;36mBolt.open\u001b[0;34m(cls, address, auth, deadline, routing_context, pool_config)\u001b[0m\n\u001b[1;32m    341\u001b[0m \u001b[39mif\u001b[39;00m deadline \u001b[39mis\u001b[39;00m \u001b[39mNone\u001b[39;00m:\n\u001b[1;32m    342\u001b[0m     deadline \u001b[39m=\u001b[39m Deadline(\u001b[39mNone\u001b[39;00m)\n\u001b[1;32m    344\u001b[0m s, protocol_version, handshake, data \u001b[39m=\u001b[39m \\\n\u001b[0;32m--> 345\u001b[0m     BoltSocket\u001b[39m.\u001b[39;49mconnect(\n\u001b[1;32m    346\u001b[0m         address,\n\u001b[1;32m    347\u001b[0m         tcp_timeout\u001b[39m=\u001b[39;49mpool_config\u001b[39m.\u001b[39;49mconnection_timeout,\n\u001b[1;32m    348\u001b[0m         deadline\u001b[39m=\u001b[39;49mdeadline,\n\u001b[1;32m    349\u001b[0m         custom_resolver\u001b[39m=\u001b[39;49mpool_config\u001b[39m.\u001b[39;49mresolver,\n\u001b[1;32m    350\u001b[0m         ssl_context\u001b[39m=\u001b[39;49mpool_config\u001b[39m.\u001b[39;49mget_ssl_context(),\n\u001b[1;32m    351\u001b[0m         keep_alive\u001b[39m=\u001b[39;49mpool_config\u001b[39m.\u001b[39;49mkeep_alive,\n\u001b[1;32m    352\u001b[0m     )\n\u001b[1;32m    354\u001b[0m pool_config\u001b[39m.\u001b[39mprotocol_version \u001b[39m=\u001b[39m protocol_version\n\u001b[1;32m    356\u001b[0m \u001b[39m# Carry out Bolt subclass imports locally to avoid circular dependency\u001b[39;00m\n\u001b[1;32m    357\u001b[0m \u001b[39m# issues.\u001b[39;00m\n",
      "File \u001b[0;32m/opt/homebrew/anaconda3/envs/kg/lib/python3.9/site-packages/neo4j/_async_compat/network/_bolt_socket.py:710\u001b[0m, in \u001b[0;36mBoltSocket.connect\u001b[0;34m(cls, address, tcp_timeout, deadline, custom_resolver, ssl_context, keep_alive)\u001b[0m\n\u001b[1;32m    705\u001b[0m     \u001b[39mraise\u001b[39;00m ServiceUnavailable(\n\u001b[1;32m    706\u001b[0m         \u001b[39m\"\u001b[39m\u001b[39mCouldn\u001b[39m\u001b[39m'\u001b[39m\u001b[39mt connect to \u001b[39m\u001b[39m%s\u001b[39;00m\u001b[39m (resolved to \u001b[39m\u001b[39m%s\u001b[39;00m\u001b[39m)\u001b[39m\u001b[39m\"\u001b[39m \u001b[39m%\u001b[39m (\n\u001b[1;32m    707\u001b[0m             \u001b[39mstr\u001b[39m(address), \u001b[39mtuple\u001b[39m(\u001b[39mmap\u001b[39m(\u001b[39mstr\u001b[39m, resolved_addresses)))\n\u001b[1;32m    708\u001b[0m     )\n\u001b[1;32m    709\u001b[0m \u001b[39melse\u001b[39;00m:\n\u001b[0;32m--> 710\u001b[0m     \u001b[39mraise\u001b[39;00m ServiceUnavailable(\n\u001b[1;32m    711\u001b[0m         \u001b[39m\"\u001b[39m\u001b[39mCouldn\u001b[39m\u001b[39m'\u001b[39m\u001b[39mt connect to \u001b[39m\u001b[39m%s\u001b[39;00m\u001b[39m (resolved to \u001b[39m\u001b[39m%s\u001b[39;00m\u001b[39m):\u001b[39m\u001b[39m\\n\u001b[39;00m\u001b[39m%s\u001b[39;00m\u001b[39m\"\u001b[39m \u001b[39m%\u001b[39m (\n\u001b[1;32m    712\u001b[0m             \u001b[39mstr\u001b[39m(address), \u001b[39mtuple\u001b[39m(\u001b[39mmap\u001b[39m(\u001b[39mstr\u001b[39m, resolved_addresses)),\n\u001b[1;32m    713\u001b[0m             \u001b[39m\"\u001b[39m\u001b[39m\\n\u001b[39;00m\u001b[39m\"\u001b[39m\u001b[39m.\u001b[39mjoin(\u001b[39mmap\u001b[39m(\u001b[39mstr\u001b[39m, errors))\n\u001b[1;32m    714\u001b[0m         )\n\u001b[1;32m    715\u001b[0m     ) \u001b[39mfrom\u001b[39;00m \u001b[39merrors\u001b[39;00m[\u001b[39m0\u001b[39m]\n",
      "\u001b[0;31mServiceUnavailable\u001b[0m: Couldn't connect to localhost:7687 (resolved to ()):\nFailed to establish connection to ResolvedIPv4Address(('127.0.0.1', 7687)) (reason [Errno 61] Connection refused)\nFailed to establish connection to ResolvedIPv6Address(('::1', 7687, 0, 0)) (reason [Errno 61] Connection refused)"
     ]
    }
   ],
   "source": [
    "db_manager = DBManager(**config['neo4jdb'], **config['chromadb'])"
   ]
  },
  {
   "cell_type": "code",
   "execution_count": 2,
   "metadata": {},
   "outputs": [
    {
     "ename": "NameError",
     "evalue": "name 'db_manager' is not defined",
     "output_type": "error",
     "traceback": [
      "\u001b[0;31m---------------------------------------------------------------------------\u001b[0m",
      "\u001b[0;31mNameError\u001b[0m                                 Traceback (most recent call last)",
      "Cell \u001b[0;32mIn[2], line 1\u001b[0m\n\u001b[0;32m----> 1\u001b[0m db_manager\u001b[39m.\u001b[39mvector_store\u001b[39m.\u001b[39mcollection\u001b[39m.\u001b[39mquery(\n\u001b[1;32m      2\u001b[0m     query_texts\u001b[39m=\u001b[39m[\u001b[39m'\u001b[39m\u001b[39mCapital adequacy refers to the ability of a bank to meet its financial obligations\u001b[39m\u001b[39m'\u001b[39m]\n\u001b[1;32m      3\u001b[0m )\n",
      "\u001b[0;31mNameError\u001b[0m: name 'db_manager' is not defined"
     ]
    }
   ],
   "source": [
    "db_manager.vector_store.collection.query(\n",
    "    query_texts=['Capital adequacy refers to the ability of a bank to meet its financial obligations']\n",
    ")"
   ]
  },
  {
   "cell_type": "code",
   "execution_count": 12,
   "metadata": {},
   "outputs": [],
   "source": [
    "generations = db_manager.vector_store.get_from_specific_source('generated')['metadatas']\n",
    "generations_docs = db_manager.vector_store.get_from_specific_source('generated')['documents']\n",
    "for i in range(len(generations)):\n",
    "    generations[i]['documents']=generations_docs[i]"
   ]
  },
  {
   "cell_type": "markdown",
   "metadata": {},
   "source": [
    "## test the correctness of general tagging"
   ]
  },
  {
   "cell_type": "code",
   "execution_count": 5,
   "metadata": {},
   "outputs": [],
   "source": [
    "import matplotlib.pyplot as plt\n",
    "import numpy as np\n",
    "from tqdm import tqdm"
   ]
  },
  {
   "cell_type": "code",
   "execution_count": 6,
   "metadata": {},
   "outputs": [
    {
     "name": "stderr",
     "output_type": "stream",
     "text": [
      "0it [00:00, ?it/s]\n",
      "/opt/homebrew/anaconda3/envs/kg/lib/python3.9/site-packages/numpy/lib/function_base.py:518: RuntimeWarning: Mean of empty slice.\n",
      "  avg = a.mean(axis, **keepdims_kw)\n",
      "/opt/homebrew/anaconda3/envs/kg/lib/python3.9/site-packages/numpy/core/_methods.py:190: RuntimeWarning: invalid value encountered in double_scalars\n",
      "  ret = ret.dtype.type(ret / rcount)\n"
     ]
    }
   ],
   "source": [
    "distance_of_general_generation = []\n",
    "distance_of_specific_generation = []\n",
    "for generation in tqdm(generations):\n",
    "    is_general = generation['general']\n",
    "    distance = db_manager.vector_store.query_from_specific_source(source='provided',\n",
    "                                                       query_texts=[generation['documents']],\n",
    "                                                       n_results=50)['distances']\n",
    "    distance_np = np.array(distance[0])\n",
    "    if is_general:\n",
    "        distance_of_general_generation.append(distance_np)\n",
    "    else:\n",
    "        distance_of_specific_generation.append(distance_np)\n",
    "average_distance_of_general_generation = np.average(np.array(distance_of_general_generation), axis=0)\n",
    "average_distance_of_specific_generation = np.average(np.array(distance_of_specific_generation), axis=0)"
   ]
  },
  {
   "cell_type": "code",
   "execution_count": 7,
   "metadata": {},
   "outputs": [
    {
     "data": {
      "image/png": "[encoded data removed]",
      "text/plain": [
       "<Figure size 500x300 with 1 Axes>"
      ]
     },
     "metadata": {},
     "output_type": "display_data"
    }
   ],
   "source": [
    "plt.figure(figsize=(5, 3))\n",
    "plt.title('each distance of general generation and specific generation with average line')\n",
    "for i in range(len(distance_of_general_generation)):\n",
    "    plt.plot(distance_of_general_generation[i], alpha=0.03, color='orange')\n",
    "plt.plot(average_distance_of_general_generation, label='general generation')\n",
    "for i in range(len(distance_of_specific_generation)):\n",
    "    plt.plot(distance_of_specific_generation[i], alpha=0.03, color='blue')\n",
    "plt.plot(average_distance_of_specific_generation, label='specific generation')\n",
    "plt.xlim(0,5)\n",
    "plt.legend()\n",
    "plt.show()"
   ]
  },
  {
   "cell_type": "markdown",
   "metadata": {},
   "source": [
    "## find similar concepts for entity alignment"
   ]
  },
  {
   "cell_type": "code",
   "execution_count": 102,
   "metadata": {},
   "outputs": [
    {
     "name": "stdout",
     "output_type": "stream",
     "text": [
      "====================\n",
      "discrete space-time: A discrete space-time is a space-time with one temporal dimension and multiple spatial dimensions\n",
      "general: True\n",
      "----------\n",
      "multi-dimensional space: A multi-dimensional space is a space with more than three dimensions\n",
      "spatial network: A spatial network is a network defined in physical space\n",
      "temporal cores: Temporal cores are dense structures in temporal networks that cannot be expanded further\n",
      "information dimension: Information dimension is a measure of the amount of information needed to describe the structure of a fractal or complex network\n",
      "dynamical systems: Dynamical systems are systems that change over time\n",
      "locality: The topological wave function satisfies a relaxed condition of locality as it acquires the same value along simplices of dimension larger than zero\n",
      "temporal networks: Temporal networks capture the dynamics of interactions over time\n",
      "finite parametric model: A finite parametric model is a probabilistic model with a fixed number of components\n",
      "evolutionary model: A model that describes the changes in a system over time through processes such as duplication and divergence\n",
      "multistability: Multistability refers to a system having multiple stable states\n",
      "\n",
      "====================\n",
      "numerical results: The paper includes the discussion of numerical results obtained by implementing the topological Dirac equation on simplicial complex models and on real simple and multiplex network data\n",
      "general: False\n",
      "----------\n",
      "topological Dirac equation: The topological Dirac equation describes the evolution of a topological wave function on networks or on simplicial complexes\n",
      "energy bands: On simplicial complexes, the Dirac equation leads to multiple energy bands\n",
      "topological spinor: The topological Dirac equation can be generalized to distinguish between different multilinks leading to a natural definition of rotations of the topological spinor\n",
      "Dirac operator: The Dirac operator is a mathematical operator used in the topological Dirac equation\n",
      "simplicial complex: A simplicial complex is a mathematical structure formed by simplices\n",
      "directed $2$-dimensional simplicial complexes: The model is extended to that of directed $2$-dimensional simplicial complexes\n",
      "representative measurements: Measurements that model the topological structures of complex networks\n",
      "topological wave function: The topological wave function describes the dynamics of topological signals or cochains on networks or simplicial complexes\n",
      "topological structures: Specific topological structures characterize the connectivity and dynamics of complex networks\n",
      "quantum systems: Complex network theory has been applied to quantum systems\n",
      "\n",
      "====================\n",
      "network science: Network science is a field that studies the structure and dynamics of networks\n",
      "general: True\n",
      "----------\n",
      "network science: Network science is the study of complex networks and their properties\n",
      "complex networks: The structure of complex networks has been of interest in many scientific and engineering disciplines over the decades\n",
      "underlying functions: The fundamental processes or mechanisms that drive the behavior of a network\n",
      "network models: Network models are mathematical representations of networks\n",
      "complex networks: Complex networks have attracted increasing interest from various fields of science\n",
      "network model: A network model is a mathematical representation of a network\n",
      "structural network: The actual network structure inferred from the dynamics of the nodes\n",
      "structural properties: Structural properties of a network refer to its characteristics and organization\n",
      "biological networks: Biological networks are mentioned as one type of self-organized complex networks that form in the study\n",
      "social networks: Social networks are mentioned as one type of self-organized complex networks that form in the study\n",
      "\n",
      "====================\n",
      "network dataset: A network dataset is a collection of data that represents a network structure\n",
      "general: True\n",
      "----------\n",
      "network dataset providers: Network dataset providers are individuals or organizations that share network datasets\n",
      "network dataset consumers: Network dataset consumers are individuals or organizations that use network datasets for their research or applications\n",
      "network characteristics: Network characteristics refer to the properties or features of a network dataset, such as its size, density, or connectivity\n",
      "network report: A network report is a structured description that summarizes and contextualizes a network dataset\n",
      "reporting and sharing network datasets: Reporting and sharing network datasets refers to the practice of providing information about network datasets to others\n",
      "moving noise dataset: A dataset used to assess the performance of the networks\n",
      "bouncing ball dataset: A dataset used to assess the performance of the networks\n",
      "network: A network is a collection of interconnected elements\n",
      "network structure: Network structure refers to the arrangement of vertices and edges in a network\n",
      "structure property: The structure property of a network refers to its topological characteristics\n",
      "\n",
      "====================\n",
      "shareable datasets: Shareable datasets are datasets that can be easily shared and accessed by others\n",
      "general: True\n",
      "----------\n",
      "reporting and sharing network datasets: Reporting and sharing network datasets refers to the practice of providing information about network datasets to others\n",
      "network dataset providers: Network dataset providers are individuals or organizations that share network datasets\n",
      "network dataset consumers: Network dataset consumers are individuals or organizations that use network datasets for their research or applications\n",
      "network dataset: A network dataset is a collection of data that represents a network structure\n",
      "dataset reports: Dataset reports are structured descriptions that provide information about datasets\n",
      "network report: A network report is a structured description that summarizes and contextualizes a network dataset\n",
      "5 datasets: The paper uses 5 datasets for experiments\n",
      "moving noise dataset: A dataset used to assess the performance of the networks\n",
      "bouncing ball dataset: A dataset used to assess the performance of the networks\n",
      "machine learning models on networks: Machine learning models on networks are models that are trained on network datasets to make predictions or perform tasks\n",
      "\n"
     ]
    }
   ],
   "source": [
    "for generation in generations[10:15]:\n",
    "    print(\"=\"*20)\n",
    "    is_general = generation['general']\n",
    "    name = generation['name']\n",
    "    description = generation['documents']\n",
    "    similar_generations = db_manager.vector_store.query_from_specific_source(source='generated',\n",
    "                                                    query_texts=description,\n",
    "                                                    n_results=11)\n",
    "    print(f\"{generation['name']}: {generation['documents']}\")\n",
    "    print(f\"general: {is_general}\")\n",
    "    print(\"-\"*10)\n",
    "    for i in range(1, len(similar_generations['documents'][0])):\n",
    "        print(similar_generations['metadatas'][0][i]['name'], end=': ')\n",
    "        print(similar_generations['documents'][0][i])\n",
    "    print()"
   ]
  },
  {
   "cell_type": "markdown",
   "metadata": {},
   "source": [
    "## tackle paper with same name"
   ]
  },
  {
   "cell_type": "markdown",
   "metadata": {},
   "source": [
    "results shows that generations with same name have similar description."
   ]
  },
  {
   "cell_type": "code",
   "execution_count": 5,
   "metadata": {},
   "outputs": [],
   "source": [
    "# improt the lib so that i can create dictory with default value\n",
    "from collections import defaultdict\n",
    "name_description_map = defaultdict(list)\n",
    "for generation in generations:\n",
    "    is_general = generation['general']\n",
    "    name = generation['name']\n",
    "    description = generation['documents']\n",
    "    name_description_map[name].append(description)"
   ]
  },
  {
   "cell_type": "code",
   "execution_count": 7,
   "metadata": {},
   "outputs": [],
   "source": [
    "# for name in set(name_description_map.keys()):\n",
    "#     print(name, len(name_description_map[name]))\n",
    "# sort by frequency\n",
    "sorted_name_description_map = sorted(name_description_map.items(), key=lambda x: len(x[1]), reverse=True)"
   ]
  },
  {
   "cell_type": "code",
   "execution_count": 10,
   "metadata": {},
   "outputs": [
    {
     "data": {
      "text/plain": [
       "[('complex networks',\n",
       "  ['Complex networks are networks with non-trivial topological features',\n",
       "   'Complex networks are networks with non-trivial topological features',\n",
       "   'Complex networks structures have been extensively used for describing complex natural and technological systems',\n",
       "   'Complex networks are networks with non-trivial topological features, such as small-worldness and scale-free degree distribution',\n",
       "   'Complex networks are a powerful paradigm to model complex systems',\n",
       "   'Complex networks are networks with non-trivial topological features',\n",
       "   'The structure of complex networks has been of interest in many scientific and engineering disciplines over the decades',\n",
       "   'Complex networks have attracted increasing interest from various fields of science',\n",
       "   'Complex networks are networks with non-trivial topological features',\n",
       "   'Complex networks are networks with non-trivial topological features',\n",
       "   'Complex networks are networks with non-trivial topological features',\n",
       "   'Networks with scale-free or fat-tailed degree distributions',\n",
       "   'Complex networks are networks with intricate structures and connections',\n",
       "   'Complex networks are networks with non-trivial topological features',\n",
       "   'Complex networks are networks with non-trivial topological features',\n",
       "   'Complex networks are networks with non-trivial topological features, such as scale-free degree distribution or small-world properties']),\n",
       " ('network structure',\n",
       "  ['The arrangement of nodes and connections in a network',\n",
       "   'The arrangement of nodes and edges in a network',\n",
       "   'Network structure refers to the arrangement of vertices and edges in a network']),\n",
       " ('convolutional neural network',\n",
       "  ['A convolutional neural network is a type of neural network commonly used for image processing tasks',\n",
       "   'Convolutional neural networks have been successfully employed for SAR image target recognition']),\n",
       " ('network science',\n",
       "  ['Network science is a field that studies the structure and dynamics of networks',\n",
       "   'Network science is the study of complex networks and their properties']),\n",
       " ('synchronization',\n",
       "  ['Synchronization is the phenomenon where the states of nodes in a network become correlated',\n",
       "   'Synchronization refers to the phenomenon where oscillators or systems adjust their behavior to become in phase with each other']),\n",
       " ('network',\n",
       "  ['A network is a collection of interconnected elements',\n",
       "   'A collection of interconnected nodes or entities']),\n",
       " ('dynamics',\n",
       "  ['Dynamics refers to the behavior or change of a system over time',\n",
       "   'The behavior or changes in a system over time']),\n",
       " ('scale-free networks',\n",
       "  ['Scale-free networks have degree distributions that follow a power-law with exponent $\\\\gamma\\\\in(1,2]$',\n",
       "   'Networks with a degree distribution that follows a power law']),\n",
       " ('social networks',\n",
       "  ['Social networks are mentioned as one type of self-organized complex networks that form in the study',\n",
       "   'Networks that represent relationships or interactions between individuals or groups']),\n",
       " ('algorithm',\n",
       "  ['An algorithm is a step-by-step procedure for solving a problem',\n",
       "   'An algorithm is a step-by-step procedure for solving a problem']),\n",
       " ('correlation',\n",
       "  ['A statistical measure that indicates the extent to which two variables are related',\n",
       "   'Correlation measures the relationship between two variables']),\n",
       " ('complex network topology',\n",
       "  ['Complex network topology refers to the arrangement of nodes and connections in a network that can have non-trivial patterns',\n",
       "   'Complex network topology refers to the arrangement and structure of connections in a network']),\n",
       " ('structural properties',\n",
       "  ['Properties related to the organization and connectivity of a network',\n",
       "   'Structural properties of a network refer to its characteristics and organization']),\n",
       " ('controllability',\n",
       "  ['Controllability is the ability to control the behavior of a network by manipulating certain nodes',\n",
       "   \"Controllability refers to the ability to control or manipulate a network's behavior\"]),\n",
       " ('scale-free network',\n",
       "  ['A scale-free network is a type of complex network with a power-law degree distribution',\n",
       "   'A scale-free network is a type of network where the degree distribution follows a power law']),\n",
       " ('complex network',\n",
       "  ['A complex network is a network with a non-trivial topology',\n",
       "   'A network with characteristic features that may vary between zones']),\n",
       " ('network topology',\n",
       "  ['Network topology refers to the arrangement and structure of connections in a network',\n",
       "   'The arrangement of nodes and connections in a network']),\n",
       " ('Cech complex',\n",
       "  ['The Cech complex represents the topology of a wireless network']),\n",
       " ('directed $2$-dimensional simplicial complexes',\n",
       "  ['The model is extended to that of directed $2$-dimensional simplicial complexes']),\n",
       " ('locality',\n",
       "  ['The topological wave function satisfies a relaxed condition of locality as it acquires the same value along simplices of dimension larger than zero']),\n",
       " ('Dirac operator',\n",
       "  ['The Dirac operator is a mathematical operator used in the topological Dirac equation']),\n",
       " ('energy bands',\n",
       "  ['On simplicial complexes, the Dirac equation leads to multiple energy bands']),\n",
       " ('multiplex networks',\n",
       "  ['Multiplex networks are networks with multiple types of links']),\n",
       " ('topological spinor',\n",
       "  ['The topological Dirac equation can be generalized to distinguish between different multilinks leading to a natural definition of rotations of the topological spinor']),\n",
       " ('spatial network',\n",
       "  ['A spatial network is a network defined in physical space'])]"
      ]
     },
     "execution_count": 10,
     "metadata": {},
     "output_type": "execute_result"
    }
   ],
   "source": [
    "sorted_name_description_map[:25]"
   ]
  }
 ],
 "metadata": {
  "kernelspec": {
   "display_name": "kg",
   "language": "python",
   "name": "python3"
  },
  "language_info": {
   "codemirror_mode": {
    "name": "ipython",
    "version": 3
   },
   "file_extension": ".py",
   "mimetype": "text/x-python",
   "name": "python",
   "nbconvert_exporter": "python",
   "pygments_lexer": "ipython3",
   "version": "3.9.16"
  },
  "orig_nbformat": 4
 },
 "nbformat": 4,
 "nbformat_minor": 2
}
