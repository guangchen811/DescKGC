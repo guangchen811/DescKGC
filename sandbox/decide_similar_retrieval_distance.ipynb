{
 "cells": [
  {
   "cell_type": "markdown",
   "metadata": {},
   "source": [
    "This file is used to decide the distance threshold for same entity retrieval."
   ]
  },
  {
   "cell_type": "code",
   "execution_count": 2,
   "metadata": {},
   "outputs": [],
   "source": [
    "import yaml\n",
    "import sys\n",
    "sys.path.append('..')\n",
    "from AutoKGC.tools.db_manager import DBManager\n",
    "with open('../config.yaml', 'r') as f:\n",
    "    config = yaml.load(f, Loader=yaml.FullLoader)"
   ]
  },
  {
   "cell_type": "code",
   "execution_count": 3,
   "metadata": {},
   "outputs": [],
   "source": [
    "config['chromadb']['persist_directory'] = '../data/chroma'"
   ]
  },
  {
   "cell_type": "code",
   "execution_count": 4,
   "metadata": {},
   "outputs": [],
   "source": [
    "db_manager = DBManager(**config['neo4jdb'], **config['chromadb'])"
   ]
  },
  {
   "cell_type": "code",
   "execution_count": 6,
   "metadata": {},
   "outputs": [],
   "source": [
    "generations = db_manager.vector_db.get_from_specific_source('generated')['metadatas']\n",
    "generations_docs = db_manager.vector_db.get_from_specific_source('generated')['documents']\n",
    "for i in range(len(generations)):\n",
    "    generations[i]['documents']=generations_docs[i]"
   ]
  },
  {
   "cell_type": "code",
   "execution_count": 7,
   "metadata": {},
   "outputs": [],
   "source": [
    "# improt the lib so that i can create dictory with default value\n",
    "from collections import defaultdict\n",
    "name_description_map = defaultdict(list)\n",
    "for generation in generations:\n",
    "    is_general = generation['general']\n",
    "    name = generation['name']\n",
    "    description = generation['documents']\n",
    "    name_description_map[name].append(description)"
   ]
  },
  {
   "cell_type": "code",
   "execution_count": 14,
   "metadata": {},
   "outputs": [],
   "source": [
    "ef = db_manager.vector_db.collection._embedding_function"
   ]
  },
  {
   "cell_type": "code",
   "execution_count": 73,
   "metadata": {},
   "outputs": [
    {
     "name": "stderr",
     "output_type": "stream",
     "text": [
      "100%|██████████| 333/333 [03:56<00:00,  1.41it/s]\n"
     ]
    }
   ],
   "source": [
    "import torch\n",
    "from tqdm import tqdm\n",
    "same_entity_scores = []\n",
    "for key in tqdm(name_description_map.keys()):\n",
    "    same_entities = name_description_map[key]\n",
    "    num_same_entities = len(same_entities)\n",
    "    if num_same_entities < 2:\n",
    "        continue\n",
    "    same_entities_emb = [db_manager.vector_db.collection._embedding_function(entity) for entity in same_entities]\n",
    "    same_entities_emb_torch_list = []\n",
    "    for emb in same_entities_emb:\n",
    "        same_entities_emb_torch_list.append(torch.tensor(emb).mean(dim=0))\n",
    "    same_entities_emb_torch = torch.stack(same_entities_emb_torch_list, dim=0)\n",
    "    # TODO: calculate the l2 distance between same entities.\n",
    "    for i in range(num_same_entities):\n",
    "        for j in range(i+1, num_same_entities):\n",
    "            same_entity_scores.append(torch.dist(same_entities_emb_torch[i], same_entities_emb_torch[j], p=2).item())"
   ]
  },
  {
   "cell_type": "code",
   "execution_count": 78,
   "metadata": {},
   "outputs": [
    {
     "name": "stdout",
     "output_type": "stream",
     "text": [
      "total number of same entity pairs: 138\n"
     ]
    },
    {
     "data": {
      "image/png": "[encoded data removed]",
      "text/plain": [
       "<Figure size 640x480 with 1 Axes>"
      ]
     },
     "metadata": {},
     "output_type": "display_data"
    }
   ],
   "source": [
    "import matplotlib.pyplot as plt\n",
    "print(f\"total number of same entity pairs: {len(same_entity_scores)}\")\n",
    "res = plt.hist(same_entity_scores, bins=100)"
   ]
  },
  {
   "cell_type": "code",
   "execution_count": 91,
   "metadata": {},
   "outputs": [
    {
     "name": "stderr",
     "output_type": "stream",
     "text": [
      "100%|██████████| 100/100 [21:50<00:00, 13.11s/it]\n"
     ]
    }
   ],
   "source": [
    "import torch\n",
    "from tqdm import tqdm\n",
    "import random\n",
    "diff_entity_scores = []\n",
    "name_keys = list(name_description_map.keys())\n",
    "# random sample 100 pairs of (key, key)\n",
    "name_key_pairs = random.sample([(name_keys[i], name_keys[j]) for i in range(len(name_keys)) for j in range(i+1, len(name_keys))], 100)\n",
    "diff_entity_scores = []\n",
    "for name_key_pair in tqdm(name_key_pairs):\n",
    "    name1, name2 = name_key_pair\n",
    "    entity1 = name_description_map[name1][0]\n",
    "    entity2 = name_description_map[name2][0]\n",
    "    entity1_emb = db_manager.vector_db.collection._embedding_function(entity1)\n",
    "    entity2_emb = db_manager.vector_db.collection._embedding_function(entity2)\n",
    "    entity1_emb_torch = torch.mean(torch.tensor(entity1_emb), dim=0)\n",
    "    entity2_emb_torch = torch.mean(torch.tensor(entity2_emb), dim=0)\n",
    "    diff_entity_scores.append(torch.dist(entity1_emb_torch, entity2_emb_torch, p=2).item())"
   ]
  },
  {
   "cell_type": "code",
   "execution_count": 94,
   "metadata": {},
   "outputs": [
    {
     "name": "stdout",
     "output_type": "stream",
     "text": [
      "total number of different entity pairs: 100\n"
     ]
    },
    {
     "data": {
      "image/png": "[encoded data removed]",
      "text/plain": [
       "<Figure size 640x480 with 1 Axes>"
      ]
     },
     "metadata": {},
     "output_type": "display_data"
    }
   ],
   "source": [
    "res = plt.hist(diff_entity_scores, bins=100)\n",
    "print(f\"total number of different entity pairs: {len(diff_entity_scores)}\")"
   ]
  }
 ],
 "metadata": {
  "kernelspec": {
   "display_name": "kg",
   "language": "python",
   "name": "python3"
  },
  "language_info": {
   "codemirror_mode": {
    "name": "ipython",
    "version": 3
   },
   "file_extension": ".py",
   "mimetype": "text/x-python",
   "name": "python",
   "nbconvert_exporter": "python",
   "pygments_lexer": "ipython3",
   "version": "3.9.16"
  },
  "orig_nbformat": 4
 },
 "nbformat": 4,
 "nbformat_minor": 2
}
