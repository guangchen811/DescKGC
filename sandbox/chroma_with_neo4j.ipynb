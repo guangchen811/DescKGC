{
 "cells": [
  {
   "attachments": {},
   "cell_type": "markdown",
   "metadata": {},
   "source": [
    "want to leverage similarity calculation function from chromadb.\n"
   ]
  },
  {
   "cell_type": "code",
   "execution_count": 30,
   "metadata": {},
   "outputs": [],
   "source": [
    "import chromadb\n",
    "from chromadb.config import Settings\n",
    "from chromadb.utils import embedding_functions\n",
    "from neo4j import GraphDatabase\n",
    "import uuid\n",
    "url=\"bolt://localhost:7687\"\n",
    "username=\"neo4j\"\n",
    "password=\"123./\\.abc\"\n",
    "driver = GraphDatabase.driver(url, auth=(username, password))"
   ]
  },
  {
   "cell_type": "code",
   "execution_count": 31,
   "metadata": {},
   "outputs": [],
   "source": [
    "client = chromadb.Client(Settings(chroma_db_impl=\"duckdb+parquet\",persist_directory=\"../data/chroma/\"))"
   ]
  },
  {
   "cell_type": "code",
   "execution_count": 32,
   "metadata": {},
   "outputs": [
    {
     "data": {
      "text/plain": [
       "[Collection(name=sandbox_chroma_with_neo4j)]"
      ]
     },
     "execution_count": 32,
     "metadata": {},
     "output_type": "execute_result"
    }
   ],
   "source": [
    "client.list_collections()"
   ]
  },
  {
   "cell_type": "code",
   "execution_count": 33,
   "metadata": {},
   "outputs": [],
   "source": [
    "collection = client.get_or_create_collection(\"sandbox_chroma_with_neo4j\", embedding_function=embedding_functions.DefaultEmbeddingFunction())"
   ]
  },
  {
   "cell_type": "code",
   "execution_count": 34,
   "metadata": {},
   "outputs": [
    {
     "ename": "IDAlreadyExistsError",
     "evalue": "IDs ['id4', 'id5', 'id6'] already exist in collection 8dfdb4af-9ef2-4d67-aba3-07d738251806",
     "output_type": "error",
     "traceback": [
      "\u001b[0;31m---------------------------------------------------------------------------\u001b[0m",
      "\u001b[0;31mIDAlreadyExistsError\u001b[0m                      Traceback (most recent call last)",
      "Cell \u001b[0;32mIn[34], line 1\u001b[0m\n\u001b[0;32m----> 1\u001b[0m collection\u001b[39m.\u001b[39;49madd(\n\u001b[1;32m      2\u001b[0m     documents\u001b[39m=\u001b[39;49m[\u001b[39m\"\u001b[39;49m\u001b[39mdoc1\u001b[39;49m\u001b[39m\"\u001b[39;49m, \u001b[39m\"\u001b[39;49m\u001b[39mdoc2\u001b[39;49m\u001b[39m\"\u001b[39;49m, \u001b[39m\"\u001b[39;49m\u001b[39mdoc3\u001b[39;49m\u001b[39m\"\u001b[39;49m],\n\u001b[1;32m      3\u001b[0m     metadatas\u001b[39m=\u001b[39;49m[{\u001b[39m\"\u001b[39;49m\u001b[39mchapter\u001b[39;49m\u001b[39m\"\u001b[39;49m: \u001b[39m\"\u001b[39;49m\u001b[39m3\u001b[39;49m\u001b[39m\"\u001b[39;49m, \u001b[39m\"\u001b[39;49m\u001b[39mverse\u001b[39;49m\u001b[39m\"\u001b[39;49m: \u001b[39m\"\u001b[39;49m\u001b[39m16\u001b[39;49m\u001b[39m\"\u001b[39;49m}, {\u001b[39m\"\u001b[39;49m\u001b[39mchapter\u001b[39;49m\u001b[39m\"\u001b[39;49m: \u001b[39m\"\u001b[39;49m\u001b[39m3\u001b[39;49m\u001b[39m\"\u001b[39;49m, \u001b[39m\"\u001b[39;49m\u001b[39mverse\u001b[39;49m\u001b[39m\"\u001b[39;49m: \u001b[39m\"\u001b[39;49m\u001b[39m5\u001b[39;49m\u001b[39m\"\u001b[39;49m}, {\u001b[39m\"\u001b[39;49m\u001b[39mchapter\u001b[39;49m\u001b[39m\"\u001b[39;49m: \u001b[39m\"\u001b[39;49m\u001b[39m29\u001b[39;49m\u001b[39m\"\u001b[39;49m, \u001b[39m\"\u001b[39;49m\u001b[39mverse\u001b[39;49m\u001b[39m\"\u001b[39;49m: \u001b[39m\"\u001b[39;49m\u001b[39m11\u001b[39;49m\u001b[39m\"\u001b[39;49m}],\n\u001b[1;32m      4\u001b[0m     ids\u001b[39m=\u001b[39;49m[\u001b[39m\"\u001b[39;49m\u001b[39mid4\u001b[39;49m\u001b[39m\"\u001b[39;49m, \u001b[39m\"\u001b[39;49m\u001b[39mid5\u001b[39;49m\u001b[39m\"\u001b[39;49m, \u001b[39m\"\u001b[39;49m\u001b[39mid6\u001b[39;49m\u001b[39m\"\u001b[39;49m]\n\u001b[1;32m      5\u001b[0m )\n",
      "File \u001b[0;32m/opt/homebrew/anaconda3/envs/kg/lib/python3.9/site-packages/chromadb/api/models/Collection.py:100\u001b[0m, in \u001b[0;36mCollection.add\u001b[0;34m(self, ids, embeddings, metadatas, documents, increment_index)\u001b[0m\n\u001b[1;32m     76\u001b[0m \u001b[39m\u001b[39m\u001b[39m\"\"\"Add embeddings to the data store.\u001b[39;00m\n\u001b[1;32m     77\u001b[0m \u001b[39mArgs:\u001b[39;00m\n\u001b[1;32m     78\u001b[0m \u001b[39m    ids: The ids of the embeddings you wish to add\u001b[39;00m\n\u001b[0;32m   (...)\u001b[0m\n\u001b[1;32m     93\u001b[0m \n\u001b[1;32m     94\u001b[0m \u001b[39m\"\"\"\u001b[39;00m\n\u001b[1;32m     96\u001b[0m ids, embeddings, metadatas, documents \u001b[39m=\u001b[39m \u001b[39mself\u001b[39m\u001b[39m.\u001b[39m_validate_embedding_set(\n\u001b[1;32m     97\u001b[0m     ids, embeddings, metadatas, documents\n\u001b[1;32m     98\u001b[0m )\n\u001b[0;32m--> 100\u001b[0m \u001b[39mself\u001b[39;49m\u001b[39m.\u001b[39;49m_client\u001b[39m.\u001b[39;49m_add(\n\u001b[1;32m    101\u001b[0m     ids, \u001b[39mself\u001b[39;49m\u001b[39m.\u001b[39;49mid, embeddings, metadatas, documents, increment_index\n\u001b[1;32m    102\u001b[0m )\n",
      "File \u001b[0;32m/opt/homebrew/anaconda3/envs/kg/lib/python3.9/site-packages/chromadb/api/local.py:247\u001b[0m, in \u001b[0;36mLocalAPI._add\u001b[0;34m(self, ids, collection_id, embeddings, metadatas, documents, increment_index)\u001b[0m\n\u001b[1;32m    245\u001b[0m existing_ids \u001b[39m=\u001b[39m \u001b[39mself\u001b[39m\u001b[39m.\u001b[39m_get(collection_id, ids\u001b[39m=\u001b[39mids, include\u001b[39m=\u001b[39m[])[\u001b[39m\"\u001b[39m\u001b[39mids\u001b[39m\u001b[39m\"\u001b[39m]\n\u001b[1;32m    246\u001b[0m \u001b[39mif\u001b[39;00m \u001b[39mlen\u001b[39m(existing_ids) \u001b[39m>\u001b[39m \u001b[39m0\u001b[39m:\n\u001b[0;32m--> 247\u001b[0m     \u001b[39mraise\u001b[39;00m errors\u001b[39m.\u001b[39mIDAlreadyExistsError(\n\u001b[1;32m    248\u001b[0m         \u001b[39mf\u001b[39m\u001b[39m\"\u001b[39m\u001b[39mIDs \u001b[39m\u001b[39m{\u001b[39;00mexisting_ids\u001b[39m}\u001b[39;00m\u001b[39m already exist in collection \u001b[39m\u001b[39m{\u001b[39;00mcollection_id\u001b[39m}\u001b[39;00m\u001b[39m\"\u001b[39m\n\u001b[1;32m    249\u001b[0m     )\n\u001b[1;32m    251\u001b[0m added_uuids \u001b[39m=\u001b[39m \u001b[39mself\u001b[39m\u001b[39m.\u001b[39m_db\u001b[39m.\u001b[39madd(\n\u001b[1;32m    252\u001b[0m     collection_id,\n\u001b[1;32m    253\u001b[0m     embeddings\u001b[39m=\u001b[39membeddings,\n\u001b[0;32m   (...)\u001b[0m\n\u001b[1;32m    256\u001b[0m     ids\u001b[39m=\u001b[39mids,\n\u001b[1;32m    257\u001b[0m )\n\u001b[1;32m    259\u001b[0m \u001b[39mif\u001b[39;00m increment_index:\n",
      "\u001b[0;31mIDAlreadyExistsError\u001b[0m: IDs ['id4', 'id5', 'id6'] already exist in collection 8dfdb4af-9ef2-4d67-aba3-07d738251806"
     ]
    }
   ],
   "source": [
    "collection.add(\n",
    "    documents=[\"doc1\", \"doc2\", \"doc3\"],\n",
    "    metadatas=[{\"chapter\": \"3\", \"verse\": \"16\"}, {\"chapter\": \"3\", \"verse\": \"5\"}, {\"chapter\": \"29\", \"verse\": \"11\"}],\n",
    "    ids=[\"id4\", \"id5\", \"id6\"]\n",
    ")"
   ]
  },
  {
   "cell_type": "code",
   "execution_count": 35,
   "metadata": {},
   "outputs": [
    {
     "data": {
      "text/plain": [
       "{'ids': ['id1', 'id2', 'id3', 'id4', 'id5', 'id6'],\n",
       " 'embeddings': None,\n",
       " 'documents': ['doc1', 'doc2', 'doc3', 'doc1', 'doc2', 'doc3'],\n",
       " 'metadatas': [{'chapter': '3', 'verse': '16'},\n",
       "  {'chapter': '3', 'verse': '5'},\n",
       "  {'chapter': '29', 'verse': '11'},\n",
       "  {'chapter': '3', 'verse': '16'},\n",
       "  {'chapter': '3', 'verse': '5'},\n",
       "  {'chapter': '29', 'verse': '11'}]}"
      ]
     },
     "execution_count": 35,
     "metadata": {},
     "output_type": "execute_result"
    }
   ],
   "source": [
    "collection.get(include=['documents', 'metadatas'])"
   ]
  },
  {
   "cell_type": "code",
   "execution_count": 26,
   "metadata": {},
   "outputs": [
    {
     "data": {
      "text/plain": [
       "{'ids': [['id3']],\n",
       " 'embeddings': None,\n",
       " 'documents': [['doc3']],\n",
       " 'metadatas': [[{'chapter': '29', 'verse': '11'}]],\n",
       " 'distances': [[1.297446846961975, 1.297446846961975]]}"
      ]
     },
     "execution_count": 26,
     "metadata": {},
     "output_type": "execute_result"
    }
   ],
   "source": [
    "results = collection.query(\n",
    "    query_texts=[\"This is a query document\"],\n",
    "    n_results=2,\n",
    ")\n",
    "results"
   ]
  },
  {
   "cell_type": "code",
   "execution_count": 29,
   "metadata": {},
   "outputs": [
    {
     "data": {
      "text/plain": [
       "True"
      ]
     },
     "execution_count": 29,
     "metadata": {},
     "output_type": "execute_result"
    }
   ],
   "source": [
    "client.persist()"
   ]
  }
 ],
 "metadata": {
  "kernelspec": {
   "display_name": "kg",
   "language": "python",
   "name": "python3"
  },
  "language_info": {
   "codemirror_mode": {
    "name": "ipython",
    "version": 3
   },
   "file_extension": ".py",
   "mimetype": "text/x-python",
   "name": "python",
   "nbconvert_exporter": "python",
   "pygments_lexer": "ipython3",
   "version": "3.9.16"
  },
  "orig_nbformat": 4
 },
 "nbformat": 4,
 "nbformat_minor": 2
}
