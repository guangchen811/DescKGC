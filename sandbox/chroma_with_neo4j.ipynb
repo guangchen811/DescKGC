{
 "cells": [
  {
   "attachments": {},
   "cell_type": "markdown",
   "metadata": {},
   "source": [
    "want to leverage similarity calculation function from chromadb.\n"
   ]
  },
  {
   "cell_type": "code",
   "execution_count": 28,
   "metadata": {},
   "outputs": [],
   "source": [
    "import chromadb\n",
    "from chromadb.config import Settings\n",
    "from chromadb.utils import embedding_functions\n",
    "from neo4j import GraphDatabase\n",
    "import uuid\n",
    "url=\"bolt://localhost:7687\"\n",
    "username=\"neo4j\"\n",
    "password=\"123./\\.abc\"\n",
    "driver = GraphDatabase.driver(url, auth=(username, password))"
   ]
  },
  {
   "cell_type": "code",
   "execution_count": 29,
   "metadata": {},
   "outputs": [],
   "source": [
    "client = chromadb.Client(Settings(chroma_db_impl=\"duckdb+parquet\",persist_directory=\"../data/chroma/\"))"
   ]
  },
  {
   "cell_type": "code",
   "execution_count": 30,
   "metadata": {},
   "outputs": [],
   "source": [
    "collection = client.get_or_create_collection(\"arxiv\", embedding_function=embedding_functions.DefaultEmbeddingFunction())"
   ]
  },
  {
   "cell_type": "code",
   "execution_count": 31,
   "metadata": {},
   "outputs": [
    {
     "data": {
      "text/plain": [
       "{'ids': ['p-6f643eec-6663-43ba-b714-50bc50ceea61',\n",
       "  'p-3ed0241b-ebed-4de5-9c40-ddff8cf60680',\n",
       "  'p-0b1fbdba-f6e8-4414-a31d-e7180ce368f9',\n",
       "  'p-2c7cbab7-52e6-4f17-ad37-d13882a121f8'],\n",
       " 'embeddings': None,\n",
       " 'documents': None,\n",
       " 'metadatas': [{'title': 'How much random a random network is : a random matrix analysis',\n",
       "   'embedding_source': 'summary'},\n",
       "  {'title': 'Local search on protein residue networks',\n",
       "   'embedding_source': 'summary'},\n",
       "  {'title': 'Ising Model on Edge-Dual of Random Networks',\n",
       "   'embedding_source': 'summary'},\n",
       "  {'title': 'The Limitation of Random Network Coding',\n",
       "   'embedding_source': 'summary'}]}"
      ]
     },
     "execution_count": 31,
     "metadata": {},
     "output_type": "execute_result"
    }
   ],
   "source": [
    "collection.get(include=['metadatas'])"
   ]
  },
  {
   "cell_type": "code",
   "execution_count": 7,
   "metadata": {},
   "outputs": [
    {
     "data": {
      "text/plain": [
       "{'ids': [['id6', 'id4']],\n",
       " 'embeddings': None,\n",
       " 'documents': [['doc3', 'doc1']],\n",
       " 'metadatas': [[{'chapter': '29', 'verse': '11'},\n",
       "   {'chapter': '3', 'verse': '16'}]],\n",
       " 'distances': [[1.297446846961975, 1.319949746131897]]}"
      ]
     },
     "execution_count": 7,
     "metadata": {},
     "output_type": "execute_result"
    }
   ],
   "source": [
    "results = collection.query(\n",
    "    query_texts=[\"This is a query document\"],\n",
    "    n_results=2,\n",
    ")\n",
    "results"
   ]
  },
  {
   "cell_type": "code",
   "execution_count": 18,
   "metadata": {},
   "outputs": [
    {
     "data": {
      "text/plain": [
       "True"
      ]
     },
     "execution_count": 18,
     "metadata": {},
     "output_type": "execute_result"
    }
   ],
   "source": [
    "client.persist()"
   ]
  }
 ],
 "metadata": {
  "kernelspec": {
   "display_name": "kg",
   "language": "python",
   "name": "python3"
  },
  "language_info": {
   "codemirror_mode": {
    "name": "ipython",
    "version": 3
   },
   "file_extension": ".py",
   "mimetype": "text/x-python",
   "name": "python",
   "nbconvert_exporter": "python",
   "pygments_lexer": "ipython3",
   "version": "3.9.16"
  },
  "orig_nbformat": 4
 },
 "nbformat": 4,
 "nbformat_minor": 2
}
