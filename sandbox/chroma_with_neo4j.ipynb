{
 "cells": [
  {
   "attachments": {},
   "cell_type": "markdown",
   "metadata": {},
   "source": [
    "want to leverage similarity calculation function from chromadb.\n"
   ]
  },
  {
   "cell_type": "code",
   "execution_count": 18,
   "metadata": {},
   "outputs": [],
   "source": [
    "import chromadb\n",
    "from chromadb.config import Settings\n",
    "from chromadb.utils import embedding_functions\n",
    "from neo4j import GraphDatabase\n",
    "import uuid\n",
    "url=\"bolt://localhost:7687\"\n",
    "username=\"neo4j\"\n",
    "password=\"123./\\.abc\"\n",
    "driver = GraphDatabase.driver(url, auth=(username, password))"
   ]
  },
  {
   "cell_type": "code",
   "execution_count": 19,
   "metadata": {},
   "outputs": [],
   "source": [
    "client = chromadb.Client(Settings(chroma_db_impl=\"duckdb+parquet\",persist_directory=\"../data/chroma/\"))"
   ]
  },
  {
   "cell_type": "code",
   "execution_count": 22,
   "metadata": {},
   "outputs": [],
   "source": [
    "collection = client.get_or_create_collection(\"arxiv1\", embedding_function=embedding_functions.DefaultEmbeddingFunction())"
   ]
  },
  {
   "cell_type": "code",
   "execution_count": 23,
   "metadata": {},
   "outputs": [
    {
     "data": {
      "text/plain": [
       "{'ids': ['c-19ff3807-d828-4deb-bcbe-18268ebd573d',\n",
       "  'c-33a73194-0421-46a6-a9fb-0211fe28a207',\n",
       "  'c-27a12a51-c472-4ecf-b844-c3f522f35c82',\n",
       "  'c-3e3dfaed-1c66-40ad-9084-69ecd97e84ec',\n",
       "  'c-53d99c8b-ec8a-4dfa-b05d-a87cf6372809',\n",
       "  'c-f398b5e5-ed75-416c-9169-f0b0a8954cfe',\n",
       "  'c-c6b96a49-2ce8-46ba-846c-1fd64f0a100d',\n",
       "  'c-4e14a152-713f-46f3-831f-ecdf4bc3057b',\n",
       "  'c-f0750cdc-3938-47ac-ba81-1e90fc1a6f02',\n",
       "  'c-57182926-84b8-4040-8f35-38cd7ddf5312',\n",
       "  'c-51aaf27e-78a5-4109-9c26-7b64d9ebf873',\n",
       "  'c-8bb24eb7-108e-4972-9cc7-d578c47a18a8',\n",
       "  'c-9dfc2ca5-998c-4517-80d1-577646051a0f',\n",
       "  'c-979136a6-7772-49ff-bdc9-994360d4e3a5',\n",
       "  'c-441edf86-92e5-4f64-8ab4-0d035f8183aa',\n",
       "  'c-aecd96af-269b-44c1-bf74-7149ec011d39',\n",
       "  'c-436cde9c-acfa-48e3-99d9-0a2ca795417f',\n",
       "  'c-f38bf8af-7265-4f6a-a276-6f47f948b182',\n",
       "  'c-b5c9d672-fdfe-4da0-bd00-08168e2e543f',\n",
       "  'c-be830204-457f-4f61-8684-e1599689496e',\n",
       "  'c-404f5316-6395-4b85-9509-8c344f0c7f0c',\n",
       "  'c-267ec05e-962b-4718-aa8d-68263bec2574',\n",
       "  'c-8407a023-acbb-4c0f-a329-8d73b7912a72',\n",
       "  'c-c4883005-a878-40be-a8f6-879985e08051',\n",
       "  'c-a2a276cb-1ae6-4c44-bf16-f4c6f84f7866',\n",
       "  'c-53be7e62-bc5e-494c-9765-1cb01f5ff710',\n",
       "  'c-b4984dd9-33a4-411f-8ed1-c6cd4a50401f',\n",
       "  'c-9a164fd1-3cba-49c6-86f1-d131aa9869c5'],\n",
       " 'embeddings': None,\n",
       " 'documents': ['Complex networks are networks with non-trivial topological features',\n",
       "  'The behavior of a system near a critical point or phase transition',\n",
       "  '$\\\\Delta_3$ statistic provides information about the long range correlations among eigenvalues in networks',\n",
       "  'Randomness in networks refers to the degree of deviation from a regular structure',\n",
       "  'Linear behavior refers to a relationship that can be represented by a straight line on a graph',\n",
       "  'A semi-logarithmic scale is a scale where one axis is logarithmic and the other is linear',\n",
       "  'The slope of a line represents the rate of change between two variables',\n",
       "  'Random matrix theory is a branch of mathematics that studies the behavior of matrices with random entries',\n",
       "  'Random walks are a type of stochastic process that explores a network by taking random steps',\n",
       "  'Communication specificity refers to the degree to which communication is specific between protein residues',\n",
       "  'Node centrality is a measure of the importance of a node in a network',\n",
       "  'Edge betweenness is a measure of the number of shortest paths that pass through an edge in a network',\n",
       "  'Edge load is a measure of the amount of traffic passing through an edge in a network',\n",
       "  'Network clustering is a measure of the degree to which nodes in a network tend to cluster together',\n",
       "  'Local search is a search process that explores the neighborhood of a current solution in order to find an optimal solution',\n",
       "  'A small-world network topology is a network with high clustering and short average path length',\n",
       "  'A mathematical model used to describe the behavior of magnetic materials',\n",
       "  'A representation of a network where the edges become nodes and vice versa',\n",
       "  'Networks where the connections between nodes are randomly distributed',\n",
       "  'The probability distribution of the degrees of the nodes in a network',\n",
       "  'The tendency of nodes in a network to form clusters or groups',\n",
       "  'The limit of a system as the number of particles or components approaches infinity',\n",
       "  'Maximum flow is the maximum amount of data that can be sent through a network',\n",
       "  'Networks where the degree distribution follows a power law',\n",
       "  'A multicast network is a network where a single source sends data to multiple sinks',\n",
       "  'Random linear network coding is a technique used in network communication to achieve the maximum flow upper bound',\n",
       "  'A multi-source multi-sink network is a network where there are multiple sources and multiple sinks',\n",
       "  'Protein residue networks are networks that represent interactions between protein residues'],\n",
       " 'metadatas': [{'name': 'complex networks',\n",
       "   'general': True,\n",
       "   'type': 'Concept'},\n",
       "  {'name': 'critical behavior', 'general': True, 'type': 'Concept'},\n",
       "  {'name': '$\\\\Delta_3$ statistic', 'general': False, 'type': 'Concept'},\n",
       "  {'name': 'randomness in networks', 'general': True, 'type': 'Concept'},\n",
       "  {'name': 'linear behavior', 'general': True, 'type': 'Concept'},\n",
       "  {'name': 'semi-logarithmic scale', 'general': True, 'type': 'Concept'},\n",
       "  {'name': 'slope', 'general': True, 'type': 'Concept'},\n",
       "  {'name': 'random matrix theory', 'general': True, 'type': 'Concept'},\n",
       "  {'name': 'random walks', 'general': True, 'type': 'Concept'},\n",
       "  {'name': 'communication specificity', 'general': True, 'type': 'Concept'},\n",
       "  {'name': 'node centrality', 'general': True, 'type': 'Concept'},\n",
       "  {'name': 'edge betweenness', 'general': True, 'type': 'Concept'},\n",
       "  {'name': 'edge load', 'general': True, 'type': 'Concept'},\n",
       "  {'name': 'network clustering', 'general': True, 'type': 'Concept'},\n",
       "  {'name': 'local search', 'general': True, 'type': 'Concept'},\n",
       "  {'name': 'small-world network topology', 'general': True, 'type': 'Concept'},\n",
       "  {'name': 'Ising model', 'general': True, 'type': 'Concept'},\n",
       "  {'name': 'edge-dual', 'general': True, 'type': 'Concept'},\n",
       "  {'name': 'uncorrelated random networks', 'general': True, 'type': 'Concept'},\n",
       "  {'name': 'degree distribution', 'general': True, 'type': 'Concept'},\n",
       "  {'name': 'clustering', 'general': True, 'type': 'Concept'},\n",
       "  {'name': 'thermodynamic limit', 'general': True, 'type': 'Concept'},\n",
       "  {'name': 'maximum flow', 'general': True, 'type': 'Concept'},\n",
       "  {'name': 'scale free random networks', 'general': True, 'type': 'Concept'},\n",
       "  {'name': 'multicast network', 'general': True, 'type': 'Concept'},\n",
       "  {'name': 'random linear network coding',\n",
       "   'general': False,\n",
       "   'type': 'Concept'},\n",
       "  {'name': 'multi-source multi-sink network',\n",
       "   'general': True,\n",
       "   'type': 'Concept'},\n",
       "  {'name': 'protein residue networks', 'general': False, 'type': 'Concept'}]}"
      ]
     },
     "execution_count": 23,
     "metadata": {},
     "output_type": "execute_result"
    }
   ],
   "source": [
    "collection.get()"
   ]
  },
  {
   "cell_type": "code",
   "execution_count": 7,
   "metadata": {},
   "outputs": [
    {
     "data": {
      "text/plain": [
       "{'ids': [['id6', 'id4']],\n",
       " 'embeddings': None,\n",
       " 'documents': [['doc3', 'doc1']],\n",
       " 'metadatas': [[{'chapter': '29', 'verse': '11'},\n",
       "   {'chapter': '3', 'verse': '16'}]],\n",
       " 'distances': [[1.297446846961975, 1.319949746131897]]}"
      ]
     },
     "execution_count": 7,
     "metadata": {},
     "output_type": "execute_result"
    }
   ],
   "source": [
    "results = collection.query(\n",
    "    query_texts=[\"This is a query document\"],\n",
    "    n_results=2,\n",
    ")\n",
    "results"
   ]
  },
  {
   "cell_type": "code",
   "execution_count": 18,
   "metadata": {},
   "outputs": [
    {
     "data": {
      "text/plain": [
       "True"
      ]
     },
     "execution_count": 18,
     "metadata": {},
     "output_type": "execute_result"
    }
   ],
   "source": [
    "client.persist()"
   ]
  }
 ],
 "metadata": {
  "kernelspec": {
   "display_name": "kg",
   "language": "python",
   "name": "python3"
  },
  "language_info": {
   "codemirror_mode": {
    "name": "ipython",
    "version": 3
   },
   "file_extension": ".py",
   "mimetype": "text/x-python",
   "name": "python",
   "nbconvert_exporter": "python",
   "pygments_lexer": "ipython3",
   "version": "3.9.16"
  },
  "orig_nbformat": 4
 },
 "nbformat": 4,
 "nbformat_minor": 2
}
